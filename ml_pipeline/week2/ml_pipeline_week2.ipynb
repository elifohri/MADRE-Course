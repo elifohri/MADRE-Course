{
  "cells": [
    {
      "cell_type": "markdown",
      "metadata": {
        "id": "view-in-github",
        "colab_type": "text"
      },
      "source": [
        "<a href=\"https://colab.research.google.com/github/elifohri/MADRE-Course/blob/main/ml_pipeline/week2/ml_pipeline_week2.ipynb\" target=\"_parent\"><img src=\"https://colab.research.google.com/assets/colab-badge.svg\" alt=\"Open In Colab\"/></a>"
      ]
    },
    {
      "cell_type": "markdown",
      "metadata": {
        "id": "0ADa08g9MogO"
      },
      "source": [
        "# **ML Pipeline**"
      ]
    },
    {
      "cell_type": "markdown",
      "metadata": {
        "id": "KF8NTomyMu-N"
      },
      "source": [
        "The aim of this class is to give you a **clear and practical understanding** of how a real machine-learning project is applied to **network intrusion detection systems**.\n",
        "\n",
        "**This week’s focus:**\n",
        "\n",
        "We are now moving from **data preparation** to the **modeling stage**, where we’ll apply **classification** (detecting attacks) techniques.\n",
        "\n",
        "You will learn how to:\n",
        "- Split the data into training and testing sets   \n",
        "- Train baseline models (Logistic Regression)  \n",
        "- Evaluate their performance   \n",
        "\n",
        "By the end of this session, you’ll have a full, end-to-end ML workflow ready for intrusion detection analysis."
      ]
    },
    {
      "cell_type": "markdown",
      "metadata": {
        "id": "nbv8jBECNBkY"
      },
      "source": [
        "## 🔁 Recap from week 1: Data Preparation\n",
        "\n",
        "In Week 1, we prepared the intrusion detection dataset for modeling. Here’s a brief recap from what was done step-by-step, with examples:\n",
        "\n",
        "#### 1. Data loading & first look:\n",
        "- Loaded the seven raw CSV files and combined them into one DataFrame.    \n",
        "- Noted that the target column was `Label` (`BENIGN` vs. various attack types).\n",
        "\n",
        "#### 2. Data cleaning and feature selection:\n",
        "- Removed duplicate rows to keep unique flow records.  \n",
        "- Replaced infinite values (`inf`, `-inf`) with `NaN`.  \n",
        "- Handled missing values with mean and median values.\n",
        "- Dropped features with **only one unique value**, since they provide no information for modeling.\n",
        "\n",
        "#### 3. Data labeling:\n",
        "- Mapped multiple specific attack labels into broader classes (e.g., DoS, PortScan, Web Attack, etc.).  \n",
        "- Transformed the `Label` column into a more general `Attack Number` column.  \n",
        "    ```\n",
        "    0: BENIGN\n",
        "    1: Brute Force\n",
        "    2: DDoS\n",
        "    3: DoS\n",
        "    4: Heartbleed\n",
        "    5: Infiltration\n",
        "    6: Port Scan\n",
        "    7: Web Attack\n",
        "    ```\n",
        "\n",
        "#### 4. Handling class imbalance:\n",
        "- The dataset was dominated by **BENIGN** traffic (~85%).  \n",
        "- After sampling to balance normal and attack classes:\n",
        "  ```\n",
        "  BENIGN →  ~10,000 samples\n",
        "  ATTACK →  ~10,000 samples\n",
        "  ```\n",
        "- Converted the target into binary form in `Attack Type` column:  \n",
        "- `BENIGN = 0`  \n",
        "- `ATTACK = 1`\n",
        "\n",
        "#### 5. The cleaned and balanced dataset was saved as:\n",
        "- Took a manageable subset from sampled dataset `new_data` (`~15,000 rows`) for lab experiments.\n",
        "  - `data/data_processed.parquet` ✅ (preferred for Week 2)  \n",
        "  - `data/data_processed.csv` (backup)"
      ]
    },
    {
      "cell_type": "markdown",
      "metadata": {
        "id": "ekL5dzHwNCvq"
      },
      "source": [
        "This Week 2 notebook continues from `data_processed.parquet` to perform:\n",
        "- **Classification:** Detecting intrusions (attack vs benign)  "
      ]
    },
    {
      "cell_type": "markdown",
      "metadata": {
        "id": "n7Px8U2uPObv"
      },
      "source": [
        "## ⬇️ Load the Processed Dataset\n",
        "\n",
        "We start by loading the balanced dataset we created in Week 1 (`dataset_processed.parquet` or `dataset_processed.csv`)."
      ]
    },
    {
      "cell_type": "code",
      "execution_count": 15,
      "metadata": {
        "colab": {
          "base_uri": "https://localhost:8080/",
          "height": 881
        },
        "id": "mUv8PA4eQurC",
        "outputId": "618f54ed-f229-444a-d9b8-25361c824507"
      },
      "outputs": [
        {
          "output_type": "stream",
          "name": "stdout",
          "text": [
            "Requirement already satisfied: gdown in /usr/local/lib/python3.12/dist-packages (5.2.0)\n",
            "Requirement already satisfied: pyarrow in /usr/local/lib/python3.12/dist-packages (18.1.0)\n",
            "Requirement already satisfied: pandas in /usr/local/lib/python3.12/dist-packages (2.2.2)\n",
            "Requirement already satisfied: beautifulsoup4 in /usr/local/lib/python3.12/dist-packages (from gdown) (4.13.5)\n",
            "Requirement already satisfied: filelock in /usr/local/lib/python3.12/dist-packages (from gdown) (3.20.0)\n",
            "Requirement already satisfied: requests[socks] in /usr/local/lib/python3.12/dist-packages (from gdown) (2.32.4)\n",
            "Requirement already satisfied: tqdm in /usr/local/lib/python3.12/dist-packages (from gdown) (4.67.1)\n",
            "Requirement already satisfied: numpy>=1.26.0 in /usr/local/lib/python3.12/dist-packages (from pandas) (2.0.2)\n",
            "Requirement already satisfied: python-dateutil>=2.8.2 in /usr/local/lib/python3.12/dist-packages (from pandas) (2.9.0.post0)\n",
            "Requirement already satisfied: pytz>=2020.1 in /usr/local/lib/python3.12/dist-packages (from pandas) (2025.2)\n",
            "Requirement already satisfied: tzdata>=2022.7 in /usr/local/lib/python3.12/dist-packages (from pandas) (2025.2)\n",
            "Requirement already satisfied: six>=1.5 in /usr/local/lib/python3.12/dist-packages (from python-dateutil>=2.8.2->pandas) (1.17.0)\n",
            "Requirement already satisfied: soupsieve>1.2 in /usr/local/lib/python3.12/dist-packages (from beautifulsoup4->gdown) (2.8)\n",
            "Requirement already satisfied: typing-extensions>=4.0.0 in /usr/local/lib/python3.12/dist-packages (from beautifulsoup4->gdown) (4.15.0)\n",
            "Requirement already satisfied: charset_normalizer<4,>=2 in /usr/local/lib/python3.12/dist-packages (from requests[socks]->gdown) (3.4.3)\n",
            "Requirement already satisfied: idna<4,>=2.5 in /usr/local/lib/python3.12/dist-packages (from requests[socks]->gdown) (3.10)\n",
            "Requirement already satisfied: urllib3<3,>=1.21.1 in /usr/local/lib/python3.12/dist-packages (from requests[socks]->gdown) (2.5.0)\n",
            "Requirement already satisfied: certifi>=2017.4.17 in /usr/local/lib/python3.12/dist-packages (from requests[socks]->gdown) (2025.10.5)\n",
            "Requirement already satisfied: PySocks!=1.5.7,>=1.5.6 in /usr/local/lib/python3.12/dist-packages (from requests[socks]->gdown) (1.7.1)\n"
          ]
        },
        {
          "output_type": "stream",
          "name": "stderr",
          "text": [
            "Downloading...\n",
            "From: https://drive.google.com/uc?id=1Izvnt8du7Yr9FQQKCtTCSHWdR1Vwh3qJ\n",
            "To: /content/data_processed.parquet\n",
            "100%|██████████| 2.39M/2.39M [00:00<00:00, 45.1MB/s]\n"
          ]
        },
        {
          "output_type": "execute_result",
          "data": {
            "text/plain": [
              "       Destination Port  Flow Duration  Total Fwd Packets  \\\n",
              "0                    80        1720168                  3   \n",
              "1                    53          61118                  4   \n",
              "2                    88            771                  2   \n",
              "3                   443         187375                 10   \n",
              "4                    53            214                  2   \n",
              "...                 ...            ...                ...   \n",
              "14995                80       99433611                  7   \n",
              "14996               443             69                  2   \n",
              "14997                80      101631665                  9   \n",
              "14998                80        5343328                  3   \n",
              "14999               443        4326172                 13   \n",
              "\n",
              "       Total Backward Packets  Total Length of Fwd Packets  \\\n",
              "0                           6                           26   \n",
              "1                           2                          152   \n",
              "2                           2                         2652   \n",
              "3                           9                         2594   \n",
              "4                           2                           92   \n",
              "...                       ...                          ...   \n",
              "14995                       6                          359   \n",
              "14996                       0                           12   \n",
              "14997                       6                          624   \n",
              "14998                       1                            0   \n",
              "14999                      11                         1341   \n",
              "\n",
              "       Total Length of Bwd Packets  Fwd Packet Length Max  \\\n",
              "0                            11601                     20   \n",
              "1                              180                     38   \n",
              "2                             2724                   1326   \n",
              "3                             2814                   1448   \n",
              "4                              248                     46   \n",
              "...                            ...                    ...   \n",
              "14995                        11595                    353   \n",
              "14996                            0                      6   \n",
              "14997                        11595                    309   \n",
              "14998                            0                      0   \n",
              "14999                        10100                    644   \n",
              "\n",
              "       Fwd Packet Length Min  Fwd Packet Length Mean  Fwd Packet Length Std  \\\n",
              "0                          0                8.666667              10.263203   \n",
              "1                         38               38.000000               0.000000   \n",
              "2                       1326             1326.000000               0.000000   \n",
              "3                          0              259.400000             471.818751   \n",
              "4                         46               46.000000               0.000000   \n",
              "...                      ...                     ...                    ...   \n",
              "14995                      0               51.285714             133.062284   \n",
              "14996                      6                6.000000               0.000000   \n",
              "14997                      0               69.333333             135.892421   \n",
              "14998                      0                0.000000               0.000000   \n",
              "14999                      0              103.153846             198.730909   \n",
              "\n",
              "       ...  Active Mean  Active Std  Active Max  Active Min    Idle Mean  \\\n",
              "0      ...          0.0         0.0           0           0          0.0   \n",
              "1      ...          0.0         0.0           0           0          0.0   \n",
              "2      ...          0.0         0.0           0           0          0.0   \n",
              "3      ...          0.0         0.0           0           0          0.0   \n",
              "4      ...          0.0         0.0           0           0          0.0   \n",
              "...    ...          ...         ...         ...         ...          ...   \n",
              "14995  ...          5.0         0.0           5           5   99400000.0   \n",
              "14996  ...          0.0         0.0           0           0          0.0   \n",
              "14997  ...       1991.0         0.0        1991        1991  101000000.0   \n",
              "14998  ...          0.0         0.0           0           0          0.0   \n",
              "14999  ...          0.0         0.0           0           0          0.0   \n",
              "\n",
              "       Idle Std   Idle Max   Idle Min  Attack Type  Attack Number  \n",
              "0           0.0          0          0            1              2  \n",
              "1           0.0          0          0            0              0  \n",
              "2           0.0          0          0            0              0  \n",
              "3           0.0          0          0            0              0  \n",
              "4           0.0          0          0            0              0  \n",
              "...         ...        ...        ...          ...            ...  \n",
              "14995       0.0   99400000   99400000            1              3  \n",
              "14996       0.0          0          0            0              0  \n",
              "14997       0.0  101000000  101000000            1              3  \n",
              "14998       0.0          0          0            0              0  \n",
              "14999       0.0          0          0            0              0  \n",
              "\n",
              "[15000 rows x 72 columns]"
            ],
            "text/html": [
              "\n",
              "  <div id=\"df-27d26418-d0fa-40b3-bfa5-56288a6a1591\" class=\"colab-df-container\">\n",
              "    <div>\n",
              "<style scoped>\n",
              "    .dataframe tbody tr th:only-of-type {\n",
              "        vertical-align: middle;\n",
              "    }\n",
              "\n",
              "    .dataframe tbody tr th {\n",
              "        vertical-align: top;\n",
              "    }\n",
              "\n",
              "    .dataframe thead th {\n",
              "        text-align: right;\n",
              "    }\n",
              "</style>\n",
              "<table border=\"1\" class=\"dataframe\">\n",
              "  <thead>\n",
              "    <tr style=\"text-align: right;\">\n",
              "      <th></th>\n",
              "      <th>Destination Port</th>\n",
              "      <th>Flow Duration</th>\n",
              "      <th>Total Fwd Packets</th>\n",
              "      <th>Total Backward Packets</th>\n",
              "      <th>Total Length of Fwd Packets</th>\n",
              "      <th>Total Length of Bwd Packets</th>\n",
              "      <th>Fwd Packet Length Max</th>\n",
              "      <th>Fwd Packet Length Min</th>\n",
              "      <th>Fwd Packet Length Mean</th>\n",
              "      <th>Fwd Packet Length Std</th>\n",
              "      <th>...</th>\n",
              "      <th>Active Mean</th>\n",
              "      <th>Active Std</th>\n",
              "      <th>Active Max</th>\n",
              "      <th>Active Min</th>\n",
              "      <th>Idle Mean</th>\n",
              "      <th>Idle Std</th>\n",
              "      <th>Idle Max</th>\n",
              "      <th>Idle Min</th>\n",
              "      <th>Attack Type</th>\n",
              "      <th>Attack Number</th>\n",
              "    </tr>\n",
              "  </thead>\n",
              "  <tbody>\n",
              "    <tr>\n",
              "      <th>0</th>\n",
              "      <td>80</td>\n",
              "      <td>1720168</td>\n",
              "      <td>3</td>\n",
              "      <td>6</td>\n",
              "      <td>26</td>\n",
              "      <td>11601</td>\n",
              "      <td>20</td>\n",
              "      <td>0</td>\n",
              "      <td>8.666667</td>\n",
              "      <td>10.263203</td>\n",
              "      <td>...</td>\n",
              "      <td>0.0</td>\n",
              "      <td>0.0</td>\n",
              "      <td>0</td>\n",
              "      <td>0</td>\n",
              "      <td>0.0</td>\n",
              "      <td>0.0</td>\n",
              "      <td>0</td>\n",
              "      <td>0</td>\n",
              "      <td>1</td>\n",
              "      <td>2</td>\n",
              "    </tr>\n",
              "    <tr>\n",
              "      <th>1</th>\n",
              "      <td>53</td>\n",
              "      <td>61118</td>\n",
              "      <td>4</td>\n",
              "      <td>2</td>\n",
              "      <td>152</td>\n",
              "      <td>180</td>\n",
              "      <td>38</td>\n",
              "      <td>38</td>\n",
              "      <td>38.000000</td>\n",
              "      <td>0.000000</td>\n",
              "      <td>...</td>\n",
              "      <td>0.0</td>\n",
              "      <td>0.0</td>\n",
              "      <td>0</td>\n",
              "      <td>0</td>\n",
              "      <td>0.0</td>\n",
              "      <td>0.0</td>\n",
              "      <td>0</td>\n",
              "      <td>0</td>\n",
              "      <td>0</td>\n",
              "      <td>0</td>\n",
              "    </tr>\n",
              "    <tr>\n",
              "      <th>2</th>\n",
              "      <td>88</td>\n",
              "      <td>771</td>\n",
              "      <td>2</td>\n",
              "      <td>2</td>\n",
              "      <td>2652</td>\n",
              "      <td>2724</td>\n",
              "      <td>1326</td>\n",
              "      <td>1326</td>\n",
              "      <td>1326.000000</td>\n",
              "      <td>0.000000</td>\n",
              "      <td>...</td>\n",
              "      <td>0.0</td>\n",
              "      <td>0.0</td>\n",
              "      <td>0</td>\n",
              "      <td>0</td>\n",
              "      <td>0.0</td>\n",
              "      <td>0.0</td>\n",
              "      <td>0</td>\n",
              "      <td>0</td>\n",
              "      <td>0</td>\n",
              "      <td>0</td>\n",
              "    </tr>\n",
              "    <tr>\n",
              "      <th>3</th>\n",
              "      <td>443</td>\n",
              "      <td>187375</td>\n",
              "      <td>10</td>\n",
              "      <td>9</td>\n",
              "      <td>2594</td>\n",
              "      <td>2814</td>\n",
              "      <td>1448</td>\n",
              "      <td>0</td>\n",
              "      <td>259.400000</td>\n",
              "      <td>471.818751</td>\n",
              "      <td>...</td>\n",
              "      <td>0.0</td>\n",
              "      <td>0.0</td>\n",
              "      <td>0</td>\n",
              "      <td>0</td>\n",
              "      <td>0.0</td>\n",
              "      <td>0.0</td>\n",
              "      <td>0</td>\n",
              "      <td>0</td>\n",
              "      <td>0</td>\n",
              "      <td>0</td>\n",
              "    </tr>\n",
              "    <tr>\n",
              "      <th>4</th>\n",
              "      <td>53</td>\n",
              "      <td>214</td>\n",
              "      <td>2</td>\n",
              "      <td>2</td>\n",
              "      <td>92</td>\n",
              "      <td>248</td>\n",
              "      <td>46</td>\n",
              "      <td>46</td>\n",
              "      <td>46.000000</td>\n",
              "      <td>0.000000</td>\n",
              "      <td>...</td>\n",
              "      <td>0.0</td>\n",
              "      <td>0.0</td>\n",
              "      <td>0</td>\n",
              "      <td>0</td>\n",
              "      <td>0.0</td>\n",
              "      <td>0.0</td>\n",
              "      <td>0</td>\n",
              "      <td>0</td>\n",
              "      <td>0</td>\n",
              "      <td>0</td>\n",
              "    </tr>\n",
              "    <tr>\n",
              "      <th>...</th>\n",
              "      <td>...</td>\n",
              "      <td>...</td>\n",
              "      <td>...</td>\n",
              "      <td>...</td>\n",
              "      <td>...</td>\n",
              "      <td>...</td>\n",
              "      <td>...</td>\n",
              "      <td>...</td>\n",
              "      <td>...</td>\n",
              "      <td>...</td>\n",
              "      <td>...</td>\n",
              "      <td>...</td>\n",
              "      <td>...</td>\n",
              "      <td>...</td>\n",
              "      <td>...</td>\n",
              "      <td>...</td>\n",
              "      <td>...</td>\n",
              "      <td>...</td>\n",
              "      <td>...</td>\n",
              "      <td>...</td>\n",
              "      <td>...</td>\n",
              "    </tr>\n",
              "    <tr>\n",
              "      <th>14995</th>\n",
              "      <td>80</td>\n",
              "      <td>99433611</td>\n",
              "      <td>7</td>\n",
              "      <td>6</td>\n",
              "      <td>359</td>\n",
              "      <td>11595</td>\n",
              "      <td>353</td>\n",
              "      <td>0</td>\n",
              "      <td>51.285714</td>\n",
              "      <td>133.062284</td>\n",
              "      <td>...</td>\n",
              "      <td>5.0</td>\n",
              "      <td>0.0</td>\n",
              "      <td>5</td>\n",
              "      <td>5</td>\n",
              "      <td>99400000.0</td>\n",
              "      <td>0.0</td>\n",
              "      <td>99400000</td>\n",
              "      <td>99400000</td>\n",
              "      <td>1</td>\n",
              "      <td>3</td>\n",
              "    </tr>\n",
              "    <tr>\n",
              "      <th>14996</th>\n",
              "      <td>443</td>\n",
              "      <td>69</td>\n",
              "      <td>2</td>\n",
              "      <td>0</td>\n",
              "      <td>12</td>\n",
              "      <td>0</td>\n",
              "      <td>6</td>\n",
              "      <td>6</td>\n",
              "      <td>6.000000</td>\n",
              "      <td>0.000000</td>\n",
              "      <td>...</td>\n",
              "      <td>0.0</td>\n",
              "      <td>0.0</td>\n",
              "      <td>0</td>\n",
              "      <td>0</td>\n",
              "      <td>0.0</td>\n",
              "      <td>0.0</td>\n",
              "      <td>0</td>\n",
              "      <td>0</td>\n",
              "      <td>0</td>\n",
              "      <td>0</td>\n",
              "    </tr>\n",
              "    <tr>\n",
              "      <th>14997</th>\n",
              "      <td>80</td>\n",
              "      <td>101631665</td>\n",
              "      <td>9</td>\n",
              "      <td>6</td>\n",
              "      <td>624</td>\n",
              "      <td>11595</td>\n",
              "      <td>309</td>\n",
              "      <td>0</td>\n",
              "      <td>69.333333</td>\n",
              "      <td>135.892421</td>\n",
              "      <td>...</td>\n",
              "      <td>1991.0</td>\n",
              "      <td>0.0</td>\n",
              "      <td>1991</td>\n",
              "      <td>1991</td>\n",
              "      <td>101000000.0</td>\n",
              "      <td>0.0</td>\n",
              "      <td>101000000</td>\n",
              "      <td>101000000</td>\n",
              "      <td>1</td>\n",
              "      <td>3</td>\n",
              "    </tr>\n",
              "    <tr>\n",
              "      <th>14998</th>\n",
              "      <td>80</td>\n",
              "      <td>5343328</td>\n",
              "      <td>3</td>\n",
              "      <td>1</td>\n",
              "      <td>0</td>\n",
              "      <td>0</td>\n",
              "      <td>0</td>\n",
              "      <td>0</td>\n",
              "      <td>0.000000</td>\n",
              "      <td>0.000000</td>\n",
              "      <td>...</td>\n",
              "      <td>0.0</td>\n",
              "      <td>0.0</td>\n",
              "      <td>0</td>\n",
              "      <td>0</td>\n",
              "      <td>0.0</td>\n",
              "      <td>0.0</td>\n",
              "      <td>0</td>\n",
              "      <td>0</td>\n",
              "      <td>0</td>\n",
              "      <td>0</td>\n",
              "    </tr>\n",
              "    <tr>\n",
              "      <th>14999</th>\n",
              "      <td>443</td>\n",
              "      <td>4326172</td>\n",
              "      <td>13</td>\n",
              "      <td>11</td>\n",
              "      <td>1341</td>\n",
              "      <td>10100</td>\n",
              "      <td>644</td>\n",
              "      <td>0</td>\n",
              "      <td>103.153846</td>\n",
              "      <td>198.730909</td>\n",
              "      <td>...</td>\n",
              "      <td>0.0</td>\n",
              "      <td>0.0</td>\n",
              "      <td>0</td>\n",
              "      <td>0</td>\n",
              "      <td>0.0</td>\n",
              "      <td>0.0</td>\n",
              "      <td>0</td>\n",
              "      <td>0</td>\n",
              "      <td>0</td>\n",
              "      <td>0</td>\n",
              "    </tr>\n",
              "  </tbody>\n",
              "</table>\n",
              "<p>15000 rows × 72 columns</p>\n",
              "</div>\n",
              "    <div class=\"colab-df-buttons\">\n",
              "\n",
              "  <div class=\"colab-df-container\">\n",
              "    <button class=\"colab-df-convert\" onclick=\"convertToInteractive('df-27d26418-d0fa-40b3-bfa5-56288a6a1591')\"\n",
              "            title=\"Convert this dataframe to an interactive table.\"\n",
              "            style=\"display:none;\">\n",
              "\n",
              "  <svg xmlns=\"http://www.w3.org/2000/svg\" height=\"24px\" viewBox=\"0 -960 960 960\">\n",
              "    <path d=\"M120-120v-720h720v720H120Zm60-500h600v-160H180v160Zm220 220h160v-160H400v160Zm0 220h160v-160H400v160ZM180-400h160v-160H180v160Zm440 0h160v-160H620v160ZM180-180h160v-160H180v160Zm440 0h160v-160H620v160Z\"/>\n",
              "  </svg>\n",
              "    </button>\n",
              "\n",
              "  <style>\n",
              "    .colab-df-container {\n",
              "      display:flex;\n",
              "      gap: 12px;\n",
              "    }\n",
              "\n",
              "    .colab-df-convert {\n",
              "      background-color: #E8F0FE;\n",
              "      border: none;\n",
              "      border-radius: 50%;\n",
              "      cursor: pointer;\n",
              "      display: none;\n",
              "      fill: #1967D2;\n",
              "      height: 32px;\n",
              "      padding: 0 0 0 0;\n",
              "      width: 32px;\n",
              "    }\n",
              "\n",
              "    .colab-df-convert:hover {\n",
              "      background-color: #E2EBFA;\n",
              "      box-shadow: 0px 1px 2px rgba(60, 64, 67, 0.3), 0px 1px 3px 1px rgba(60, 64, 67, 0.15);\n",
              "      fill: #174EA6;\n",
              "    }\n",
              "\n",
              "    .colab-df-buttons div {\n",
              "      margin-bottom: 4px;\n",
              "    }\n",
              "\n",
              "    [theme=dark] .colab-df-convert {\n",
              "      background-color: #3B4455;\n",
              "      fill: #D2E3FC;\n",
              "    }\n",
              "\n",
              "    [theme=dark] .colab-df-convert:hover {\n",
              "      background-color: #434B5C;\n",
              "      box-shadow: 0px 1px 3px 1px rgba(0, 0, 0, 0.15);\n",
              "      filter: drop-shadow(0px 1px 2px rgba(0, 0, 0, 0.3));\n",
              "      fill: #FFFFFF;\n",
              "    }\n",
              "  </style>\n",
              "\n",
              "    <script>\n",
              "      const buttonEl =\n",
              "        document.querySelector('#df-27d26418-d0fa-40b3-bfa5-56288a6a1591 button.colab-df-convert');\n",
              "      buttonEl.style.display =\n",
              "        google.colab.kernel.accessAllowed ? 'block' : 'none';\n",
              "\n",
              "      async function convertToInteractive(key) {\n",
              "        const element = document.querySelector('#df-27d26418-d0fa-40b3-bfa5-56288a6a1591');\n",
              "        const dataTable =\n",
              "          await google.colab.kernel.invokeFunction('convertToInteractive',\n",
              "                                                    [key], {});\n",
              "        if (!dataTable) return;\n",
              "\n",
              "        const docLinkHtml = 'Like what you see? Visit the ' +\n",
              "          '<a target=\"_blank\" href=https://colab.research.google.com/notebooks/data_table.ipynb>data table notebook</a>'\n",
              "          + ' to learn more about interactive tables.';\n",
              "        element.innerHTML = '';\n",
              "        dataTable['output_type'] = 'display_data';\n",
              "        await google.colab.output.renderOutput(dataTable, element);\n",
              "        const docLink = document.createElement('div');\n",
              "        docLink.innerHTML = docLinkHtml;\n",
              "        element.appendChild(docLink);\n",
              "      }\n",
              "    </script>\n",
              "  </div>\n",
              "\n",
              "\n",
              "    <div id=\"df-1a3ac876-aa98-4d1f-99a6-fcc3b469b14a\">\n",
              "      <button class=\"colab-df-quickchart\" onclick=\"quickchart('df-1a3ac876-aa98-4d1f-99a6-fcc3b469b14a')\"\n",
              "                title=\"Suggest charts\"\n",
              "                style=\"display:none;\">\n",
              "\n",
              "<svg xmlns=\"http://www.w3.org/2000/svg\" height=\"24px\"viewBox=\"0 0 24 24\"\n",
              "     width=\"24px\">\n",
              "    <g>\n",
              "        <path d=\"M19 3H5c-1.1 0-2 .9-2 2v14c0 1.1.9 2 2 2h14c1.1 0 2-.9 2-2V5c0-1.1-.9-2-2-2zM9 17H7v-7h2v7zm4 0h-2V7h2v10zm4 0h-2v-4h2v4z\"/>\n",
              "    </g>\n",
              "</svg>\n",
              "      </button>\n",
              "\n",
              "<style>\n",
              "  .colab-df-quickchart {\n",
              "      --bg-color: #E8F0FE;\n",
              "      --fill-color: #1967D2;\n",
              "      --hover-bg-color: #E2EBFA;\n",
              "      --hover-fill-color: #174EA6;\n",
              "      --disabled-fill-color: #AAA;\n",
              "      --disabled-bg-color: #DDD;\n",
              "  }\n",
              "\n",
              "  [theme=dark] .colab-df-quickchart {\n",
              "      --bg-color: #3B4455;\n",
              "      --fill-color: #D2E3FC;\n",
              "      --hover-bg-color: #434B5C;\n",
              "      --hover-fill-color: #FFFFFF;\n",
              "      --disabled-bg-color: #3B4455;\n",
              "      --disabled-fill-color: #666;\n",
              "  }\n",
              "\n",
              "  .colab-df-quickchart {\n",
              "    background-color: var(--bg-color);\n",
              "    border: none;\n",
              "    border-radius: 50%;\n",
              "    cursor: pointer;\n",
              "    display: none;\n",
              "    fill: var(--fill-color);\n",
              "    height: 32px;\n",
              "    padding: 0;\n",
              "    width: 32px;\n",
              "  }\n",
              "\n",
              "  .colab-df-quickchart:hover {\n",
              "    background-color: var(--hover-bg-color);\n",
              "    box-shadow: 0 1px 2px rgba(60, 64, 67, 0.3), 0 1px 3px 1px rgba(60, 64, 67, 0.15);\n",
              "    fill: var(--button-hover-fill-color);\n",
              "  }\n",
              "\n",
              "  .colab-df-quickchart-complete:disabled,\n",
              "  .colab-df-quickchart-complete:disabled:hover {\n",
              "    background-color: var(--disabled-bg-color);\n",
              "    fill: var(--disabled-fill-color);\n",
              "    box-shadow: none;\n",
              "  }\n",
              "\n",
              "  .colab-df-spinner {\n",
              "    border: 2px solid var(--fill-color);\n",
              "    border-color: transparent;\n",
              "    border-bottom-color: var(--fill-color);\n",
              "    animation:\n",
              "      spin 1s steps(1) infinite;\n",
              "  }\n",
              "\n",
              "  @keyframes spin {\n",
              "    0% {\n",
              "      border-color: transparent;\n",
              "      border-bottom-color: var(--fill-color);\n",
              "      border-left-color: var(--fill-color);\n",
              "    }\n",
              "    20% {\n",
              "      border-color: transparent;\n",
              "      border-left-color: var(--fill-color);\n",
              "      border-top-color: var(--fill-color);\n",
              "    }\n",
              "    30% {\n",
              "      border-color: transparent;\n",
              "      border-left-color: var(--fill-color);\n",
              "      border-top-color: var(--fill-color);\n",
              "      border-right-color: var(--fill-color);\n",
              "    }\n",
              "    40% {\n",
              "      border-color: transparent;\n",
              "      border-right-color: var(--fill-color);\n",
              "      border-top-color: var(--fill-color);\n",
              "    }\n",
              "    60% {\n",
              "      border-color: transparent;\n",
              "      border-right-color: var(--fill-color);\n",
              "    }\n",
              "    80% {\n",
              "      border-color: transparent;\n",
              "      border-right-color: var(--fill-color);\n",
              "      border-bottom-color: var(--fill-color);\n",
              "    }\n",
              "    90% {\n",
              "      border-color: transparent;\n",
              "      border-bottom-color: var(--fill-color);\n",
              "    }\n",
              "  }\n",
              "</style>\n",
              "\n",
              "      <script>\n",
              "        async function quickchart(key) {\n",
              "          const quickchartButtonEl =\n",
              "            document.querySelector('#' + key + ' button');\n",
              "          quickchartButtonEl.disabled = true;  // To prevent multiple clicks.\n",
              "          quickchartButtonEl.classList.add('colab-df-spinner');\n",
              "          try {\n",
              "            const charts = await google.colab.kernel.invokeFunction(\n",
              "                'suggestCharts', [key], {});\n",
              "          } catch (error) {\n",
              "            console.error('Error during call to suggestCharts:', error);\n",
              "          }\n",
              "          quickchartButtonEl.classList.remove('colab-df-spinner');\n",
              "          quickchartButtonEl.classList.add('colab-df-quickchart-complete');\n",
              "        }\n",
              "        (() => {\n",
              "          let quickchartButtonEl =\n",
              "            document.querySelector('#df-1a3ac876-aa98-4d1f-99a6-fcc3b469b14a button');\n",
              "          quickchartButtonEl.style.display =\n",
              "            google.colab.kernel.accessAllowed ? 'block' : 'none';\n",
              "        })();\n",
              "      </script>\n",
              "    </div>\n",
              "\n",
              "  <div id=\"id_a0b37580-2153-4163-95df-a4d2d286fe65\">\n",
              "    <style>\n",
              "      .colab-df-generate {\n",
              "        background-color: #E8F0FE;\n",
              "        border: none;\n",
              "        border-radius: 50%;\n",
              "        cursor: pointer;\n",
              "        display: none;\n",
              "        fill: #1967D2;\n",
              "        height: 32px;\n",
              "        padding: 0 0 0 0;\n",
              "        width: 32px;\n",
              "      }\n",
              "\n",
              "      .colab-df-generate:hover {\n",
              "        background-color: #E2EBFA;\n",
              "        box-shadow: 0px 1px 2px rgba(60, 64, 67, 0.3), 0px 1px 3px 1px rgba(60, 64, 67, 0.15);\n",
              "        fill: #174EA6;\n",
              "      }\n",
              "\n",
              "      [theme=dark] .colab-df-generate {\n",
              "        background-color: #3B4455;\n",
              "        fill: #D2E3FC;\n",
              "      }\n",
              "\n",
              "      [theme=dark] .colab-df-generate:hover {\n",
              "        background-color: #434B5C;\n",
              "        box-shadow: 0px 1px 3px 1px rgba(0, 0, 0, 0.15);\n",
              "        filter: drop-shadow(0px 1px 2px rgba(0, 0, 0, 0.3));\n",
              "        fill: #FFFFFF;\n",
              "      }\n",
              "    </style>\n",
              "    <button class=\"colab-df-generate\" onclick=\"generateWithVariable('data')\"\n",
              "            title=\"Generate code using this dataframe.\"\n",
              "            style=\"display:none;\">\n",
              "\n",
              "  <svg xmlns=\"http://www.w3.org/2000/svg\" height=\"24px\"viewBox=\"0 0 24 24\"\n",
              "       width=\"24px\">\n",
              "    <path d=\"M7,19H8.4L18.45,9,17,7.55,7,17.6ZM5,21V16.75L18.45,3.32a2,2,0,0,1,2.83,0l1.4,1.43a1.91,1.91,0,0,1,.58,1.4,1.91,1.91,0,0,1-.58,1.4L9.25,21ZM18.45,9,17,7.55Zm-12,3A5.31,5.31,0,0,0,4.9,8.1,5.31,5.31,0,0,0,1,6.5,5.31,5.31,0,0,0,4.9,4.9,5.31,5.31,0,0,0,6.5,1,5.31,5.31,0,0,0,8.1,4.9,5.31,5.31,0,0,0,12,6.5,5.46,5.46,0,0,0,6.5,12Z\"/>\n",
              "  </svg>\n",
              "    </button>\n",
              "    <script>\n",
              "      (() => {\n",
              "      const buttonEl =\n",
              "        document.querySelector('#id_a0b37580-2153-4163-95df-a4d2d286fe65 button.colab-df-generate');\n",
              "      buttonEl.style.display =\n",
              "        google.colab.kernel.accessAllowed ? 'block' : 'none';\n",
              "\n",
              "      buttonEl.onclick = () => {\n",
              "        google.colab.notebook.generateWithVariable('data');\n",
              "      }\n",
              "      })();\n",
              "    </script>\n",
              "  </div>\n",
              "\n",
              "    </div>\n",
              "  </div>\n"
            ],
            "application/vnd.google.colaboratory.intrinsic+json": {
              "type": "dataframe",
              "variable_name": "data"
            }
          },
          "metadata": {},
          "execution_count": 15
        }
      ],
      "source": [
        "# Install gdown if needed\n",
        "!pip install gdown pyarrow pandas\n",
        "\n",
        "# Import libraries\n",
        "import gdown\n",
        "import pandas as pd\n",
        "import gdown, zipfile, os\n",
        "\n",
        "# Google Drive file info\n",
        "file_id = '1Izvnt8du7Yr9FQQKCtTCSHWdR1Vwh3qJ'\n",
        "output = 'data_processed.parquet'\n",
        "\n",
        "\n",
        "# Download the file\n",
        "gdown.download(f\"https://drive.google.com/uc?id={file_id}\", output, quiet=False)\n",
        "\n",
        "# Load into pandas\n",
        "data = pd.read_parquet(output)\n",
        "\n",
        "# Display the first few rows\n",
        "data"
      ]
    },
    {
      "cell_type": "markdown",
      "metadata": {
        "id": "wpwNBwjXNLRb"
      },
      "source": [
        "Let’s verify how many of the attacks are **Benign** vs **Attack**:"
      ]
    },
    {
      "cell_type": "code",
      "execution_count": 16,
      "metadata": {
        "colab": {
          "base_uri": "https://localhost:8080/",
          "height": 210
        },
        "id": "Emay4-HVNNUL",
        "outputId": "143523e1-4fcd-4532-bbe1-78c9db3b0a99"
      },
      "outputs": [
        {
          "output_type": "stream",
          "name": "stdout",
          "text": [
            "\n",
            "Class distribution:\n"
          ]
        },
        {
          "output_type": "display_data",
          "data": {
            "text/plain": [
              "Attack Type\n",
              "1    7529\n",
              "0    7471\n",
              "Name: count, dtype: int64"
            ],
            "text/html": [
              "<div>\n",
              "<style scoped>\n",
              "    .dataframe tbody tr th:only-of-type {\n",
              "        vertical-align: middle;\n",
              "    }\n",
              "\n",
              "    .dataframe tbody tr th {\n",
              "        vertical-align: top;\n",
              "    }\n",
              "\n",
              "    .dataframe thead th {\n",
              "        text-align: right;\n",
              "    }\n",
              "</style>\n",
              "<table border=\"1\" class=\"dataframe\">\n",
              "  <thead>\n",
              "    <tr style=\"text-align: right;\">\n",
              "      <th></th>\n",
              "      <th>count</th>\n",
              "    </tr>\n",
              "    <tr>\n",
              "      <th>Attack Type</th>\n",
              "      <th></th>\n",
              "    </tr>\n",
              "  </thead>\n",
              "  <tbody>\n",
              "    <tr>\n",
              "      <th>1</th>\n",
              "      <td>7529</td>\n",
              "    </tr>\n",
              "    <tr>\n",
              "      <th>0</th>\n",
              "      <td>7471</td>\n",
              "    </tr>\n",
              "  </tbody>\n",
              "</table>\n",
              "</div><br><label><b>dtype:</b> int64</label>"
            ]
          },
          "metadata": {}
        }
      ],
      "source": [
        "# If dataset has Attack Type or binary attack column\n",
        "if \"Attack Type\" in data.columns:\n",
        "    print(\"\\nClass distribution:\")\n",
        "    display(data[\"Attack Type\"].value_counts())\n",
        "\n",
        "elif \"Attack\" in data.columns or \"Attack Type\" not in data.columns:\n",
        "    target_col = \"Attack Type\" if \"Attack Type\" in data.columns else \"Attack\"\n",
        "    counts = data[target_col].value_counts()\n",
        "    print(\"\\nClass distribution:\")\n",
        "    display(counts)"
      ]
    },
    {
      "cell_type": "markdown",
      "metadata": {
        "id": "dqC_1dG6NZw9"
      },
      "source": [
        "## ⬇️ Train / Test Split\n",
        "\n",
        "To evaluate models properly, we divide the dataset into two parts:\n",
        "\n",
        "- **Training set (80%)** — used for training and internal cross-validation  \n",
        "- **Test set (20%)** — used only once for final evaluation after model selection  \n",
        "\n",
        "The cross-validation will automatically create its own validation folds within the training data. **Cross-validation** is where the training data is split into *k* parts (“folds”). The model is trained *k* times — each time using a different fold for validation and the rest for training. The final performance is the average across all folds.\n"
      ]
    },
    {
      "cell_type": "code",
      "execution_count": 17,
      "metadata": {
        "colab": {
          "base_uri": "https://localhost:8080/"
        },
        "id": "sDrAbvIuNbTC",
        "outputId": "21d56684-1c71-4151-d40e-1cdef10102fe"
      },
      "outputs": [
        {
          "output_type": "stream",
          "name": "stdout",
          "text": [
            "Data split complete:\n",
            "Training set: 12000 samples\n",
            "Test set: 3000 samples\n",
            "\n",
            "Class distribution:\n",
            "Train: Attack Type\n",
            "1    0.502\n",
            "0    0.498\n",
            "Name: proportion, dtype: float64\n",
            "Test: Attack Type\n",
            "1    0.502\n",
            "0    0.498\n",
            "Name: proportion, dtype: float64\n"
          ]
        }
      ],
      "source": [
        "from sklearn.model_selection import train_test_split\n",
        "\n",
        "# Separate features and target\n",
        "X = data.drop('Attack Type', axis=1)\n",
        "y = data['Attack Type']\n",
        "\n",
        "# Split into train and test sets (stratified to keep class balance)\n",
        "X_train, X_test, y_train, y_test = train_test_split(\n",
        "    X, y, test_size=0.2, stratify=y, random_state=0\n",
        ")\n",
        "\n",
        "print(\"Data split complete:\")\n",
        "print(f\"Training set: {X_train.shape[0]} samples\")\n",
        "print(f\"Test set: {X_test.shape[0]} samples\")\n",
        "\n",
        "# Quick check of class balance\n",
        "print(\"\\nClass distribution:\")\n",
        "print(\"Train:\", y_train.value_counts(normalize=True).round(3))\n",
        "print(\"Test:\", y_test.value_counts(normalize=True).round(3))\n"
      ]
    },
    {
      "cell_type": "markdown",
      "metadata": {
        "id": "Myc5Ym8ZZW-E"
      },
      "source": [
        "## ⬇️ Classification — Detecting Network Attacks\n",
        "\n",
        "Now that our data is prepared and split into **training**, **validation**, and **test** sets, we can begin building our first intrusion-detection model.\n",
        "\n",
        "**Logistic Regression** is a simple yet powerful classification algorithm that predicts the probability of an instance belonging to a particular class.  \n",
        "\n",
        "The objective is to train a Logistic Regression model to classify each network flow as:\n",
        "- **0 → Benign (Normal Traffic)**\n",
        "- **1 → Attack (Malicious Activity)**\n",
        "\n",
        "We will assess the model’s performance using:\n",
        "- **Confusion Matrix** – to visualize correct and incorrect predictions  \n",
        "- **Precision, Recall, and F1-score** – to measure detection quality and balance between false alarms and missed attacks\n"
      ]
    },
    {
      "cell_type": "code",
      "execution_count": 18,
      "metadata": {
        "colab": {
          "base_uri": "https://localhost:8080/"
        },
        "id": "n2pwKcsANfZ4",
        "outputId": "f23d1a26-cd3c-4588-b8af-2878b342d2f8"
      },
      "outputs": [
        {
          "output_type": "stream",
          "name": "stdout",
          "text": [
            "Logistic regression Model 1\n",
            "\n",
            "Cross-validation scores: 0.7933333333333333, 0.7866666666666666, 0.78375, 0.7920833333333334, 0.80375\n",
            "\n",
            "Mean cross-validation score: 0.79\n"
          ]
        }
      ],
      "source": [
        "from sklearn.linear_model import LogisticRegression\n",
        "from sklearn.model_selection import cross_val_score\n",
        "\n",
        "lr1 = LogisticRegression(max_iter=10000, C=0.1, random_state=0, solver='saga')\n",
        "lr1.fit(X_train, y_train)\n",
        "\n",
        "cv_lr1 = cross_val_score(lr1, X_train, y_train, cv=5)\n",
        "print('Logistic regression Model 1')\n",
        "print(f'\\nCross-validation scores:', ', '.join(map(str, cv_lr1)))\n",
        "print(f'\\nMean cross-validation score: {cv_lr1.mean():.2f}')"
      ]
    },
    {
      "cell_type": "code",
      "execution_count": 19,
      "metadata": {
        "colab": {
          "base_uri": "https://localhost:8080/"
        },
        "id": "_2LjjwWZNgzj",
        "outputId": "3c6e07df-5056-4f82-a614-a0f8d523ccd1"
      },
      "outputs": [
        {
          "output_type": "stream",
          "name": "stdout",
          "text": [
            "Logistic Regression Model 1 coefficients:\n",
            "[-1.12058381e-07 -1.30500954e-07 -3.10600017e-11 -2.87460249e-11\n",
            " -6.07762395e-09 -1.62808670e-08 -3.24880917e-09 -3.07823696e-10\n",
            " -1.04490461e-09 -1.17468399e-09  5.13455508e-10 -7.47443621e-10\n",
            " -3.68849148e-10  5.79153244e-10 -8.21072181e-07  3.09920122e-08\n",
            "  3.23132581e-07  4.31588460e-07 -3.81960584e-07  6.64391480e-09\n",
            "  1.30921718e-07 -2.22281536e-07  1.07738607e-08  1.33817998e-07\n",
            "  2.19396733e-08 -6.99470130e-08 -1.51367614e-07  8.37511407e-08\n",
            "  2.96567142e-08  9.28396762e-08 -2.94695435e-13 -2.94439341e-15\n",
            " -7.53373693e-10 -7.23284697e-10 -1.00134441e-07  1.25105272e-07\n",
            " -2.76735186e-10 -1.67402660e-09 -5.32261210e-10 -4.38880637e-10\n",
            "  7.52716826e-07  3.91629456e-13 -2.94695435e-13 -3.02609346e-15\n",
            "  2.31016982e-12 -2.35669829e-12 -2.03625771e-12 -2.94439341e-15\n",
            " -3.02609346e-15 -4.50275146e-12 -6.57734003e-10 -1.04490461e-09\n",
            " -3.68849148e-10 -7.53373693e-10 -3.10600017e-11 -6.07762395e-09\n",
            " -2.87460249e-11 -1.62808670e-08 -3.50489937e-09 -3.39279773e-08\n",
            " -1.49219917e-11 -1.39001470e-10 -1.46717530e-07  2.05413105e-07\n",
            " -9.05201718e-08 -2.82450548e-07 -3.01329847e-07 -3.52001494e-07\n",
            "  5.55770925e-07 -7.70190826e-08  3.48295705e-11]\n",
            "\n",
            "Logistic Regression Model 1 intercept: -6.238718932467147e-12\n"
          ]
        }
      ],
      "source": [
        "print('Logistic Regression Model 1 coefficients:')\n",
        "print(*lr1.coef_, sep = ', ')\n",
        "print('\\nLogistic Regression Model 1 intercept:', *lr1.intercept_)"
      ]
    },
    {
      "cell_type": "markdown",
      "metadata": {
        "id": "MauJO-KUjFpY"
      },
      "source": [
        "## ⬇️ Performance Evaluation\n",
        "\n",
        "Now that we’ve trained our **Logistic Regression** model, we want to evaluate how well it performs on the test dataset.\n",
        "\n",
        "To do this, we’ll:\n",
        "1. Generate predictions using the test features (`X_test`).\n",
        "2. Compare the predictions to the true labels (`y_test`) by creating a **confusion matrix**.\n",
        "3. Visualize the confusion matrix as a heatmap.\n",
        "\n",
        "A **confusion matrix** helps us see:\n",
        "- How many predictions were correct.\n",
        "- How many were incorrect.\n",
        "- Whether the model is making more **false positives** or **false negatives**."
      ]
    },
    {
      "cell_type": "code",
      "execution_count": 20,
      "metadata": {
        "id": "IcYX4Da0VKFl"
      },
      "outputs": [],
      "source": [
        "# Importing necessary functions\n",
        "from sklearn.metrics import confusion_matrix, ConfusionMatrixDisplay, accuracy_score, classification_report, \\\n",
        " roc_auc_score, roc_curve, auc, precision_recall_curve\n",
        "import matplotlib.pyplot as plt\n",
        "import seaborn as sns\n",
        "import numpy as np"
      ]
    },
    {
      "cell_type": "code",
      "execution_count": 29,
      "metadata": {
        "colab": {
          "base_uri": "https://localhost:8080/",
          "height": 410
        },
        "id": "VVfyp4hZVL2N",
        "outputId": "0cb0480c-18ae-4307-b3bb-74bf68afe433"
      },
      "outputs": [
        {
          "output_type": "display_data",
          "data": {
            "text/plain": [
              "<Figure size 800x400 with 2 Axes>"
            ],
            "image/png": "[encoded data removed]"
          },
          "metadata": {}
        }
      ],
      "source": [
        "y_pred_lr1 = lr1.predict(X_test)\n",
        "\n",
        "conf_matrix_model1 = confusion_matrix(y_test, y_pred_lr1)\n",
        "\n",
        "fig, axs = plt.subplots(1, 1, figsize = (8, 4))\n",
        "\n",
        "sns.heatmap(conf_matrix_model1, annot=True, cmap='Blues', ax=axs)\n",
        "axs.set_title('Confusion Matrix - Intrusion Detection - Model 1')\n",
        "axs.set_xlabel('Predicted label')\n",
        "axs.set_ylabel('True label')\n",
        "plt.show()"
      ]
    },
    {
      "cell_type": "markdown",
      "metadata": {
        "id": "EOaF3c-JdgW8"
      },
      "source": [
        "Next, we evaluate our model using the **ROC curve**. The ROC curve shows the trade-off between the **True Positive Rate (Recall)** and the **False Positive Rate**."
      ]
    },
    {
      "cell_type": "code",
      "execution_count": 22,
      "metadata": {
        "colab": {
          "base_uri": "https://localhost:8080/",
          "height": 507
        },
        "id": "ABa4-wHOdItK",
        "outputId": "d1f76e89-4969-4ce1-e8ea-e0212f8d74b0"
      },
      "outputs": [
        {
          "output_type": "display_data",
          "data": {
            "text/plain": [
              "<Figure size 1000x500 with 1 Axes>"
            ],
            "image/png": "[encoded data removed]"
          },
          "metadata": {}
        }
      ],
      "source": [
        "y_prob_lr1 = lr1.predict_proba(X_test)[:, 1]\n",
        "\n",
        "fpr1, tpr1, _ = roc_curve(y_test, y_prob_lr1)\n",
        "roc_auc1 = auc(fpr1, tpr1)\n",
        "\n",
        "colors = sns.color_palette('Set2', n_colors=3)\n",
        "fig, ax = plt.subplots(1, 1, figsize=(10, 5))\n",
        "\n",
        "ax.plot(fpr1, tpr1, label=f'ROC curve (area = {roc_auc1:.2%})', color=colors[1])\n",
        "ax.plot([0, 1], [0, 1], color=colors[0], linestyle='--')\n",
        "ax.set_xlim([-0.05, 1.0])\n",
        "ax.set_ylim([0.0, 1.05])\n",
        "ax.set_xlabel('False Positive Rate')\n",
        "ax.set_ylabel('True Positive Rate')\n",
        "ax.set_title('ROC Curve - Intrusion Detection - Model 1')\n",
        "ax.legend(loc='lower right')\n",
        "\n",
        "plt.tight_layout()\n",
        "plt.show()"
      ]
    },
    {
      "cell_type": "markdown",
      "metadata": {
        "id": "6CgVIWuQYXA4"
      },
      "source": [
        "In this step, we analyze our Logistic Regression model’s performance using its **Precision**, **Recall**, and **F1-score** values for each class. We generate a classification report and visualize these metrics as a heatmap to understand how well the model detects **benign** and **attack** network traffic."
      ]
    },
    {
      "cell_type": "code",
      "execution_count": 23,
      "metadata": {
        "colab": {
          "base_uri": "https://localhost:8080/",
          "height": 468
        },
        "id": "vZSCM9OZhToK",
        "outputId": "8bc4ef3a-af52-442a-f168-7ff6dff515bf"
      },
      "outputs": [
        {
          "output_type": "display_data",
          "data": {
            "text/plain": [
              "<Figure size 800x500 with 2 Axes>"
            ],
            "image/png": "[encoded data removed]"
          },
          "metadata": {}
        }
      ],
      "source": [
        "target_names = lr1.classes_\n",
        "metrics1 = classification_report(y_true = y_test, y_pred = y_pred_lr1, target_names = target_names, output_dict = True)\n",
        "\n",
        "precision1 = [metrics1[target]['precision'] for target in target_names]\n",
        "recall1 = [metrics1[target]['recall'] for target in target_names]\n",
        "f1_score1 = [metrics1[target]['f1-score'] for target in target_names]\n",
        "\n",
        "data1 = np.array([precision1, recall1, f1_score1])\n",
        "rows = ['precision', 'recall', 'f1-score']\n",
        "\n",
        "fig, ax = plt.subplots(figsize=(8, 5))\n",
        "sns.heatmap(data1, cmap='Pastel1', annot=True, fmt='.2f', xticklabels=target_names, yticklabels=rows, ax=ax)\n",
        "ax.set_title('Classification Report - Intrusion Detection - Model 1')\n",
        "plt.show()\n"
      ]
    },
    {
      "cell_type": "markdown",
      "metadata": {
        "id": "E6ys6cLsjbQh"
      },
      "source": [
        "## ⬇️ Model Performance Review\n",
        "\n",
        "The initial model results are **not as good as expected** — accuracy remains relatively low and the predictions are inconsistent.  \n",
        "This suggests that our data might not be properly prepared for the model to learn effectively.\n",
        "\n",
        "To improve performance, we’ll **return to the data preprocessing stage** and apply additional steps such as:\n",
        "- **Feature scaling (standardization)** to ensure all features are on the same scale.  \n",
        "- **Dimensionality reduction (PCA)** to remove noise and redundant information.\n",
        "\n",
        "These steps often help linear models like Logistic Regression perform better by making the feature space more balanced and easier to separate.\n"
      ]
    },
    {
      "cell_type": "markdown",
      "metadata": {
        "id": "wPzolXthj2mp"
      },
      "source": [
        "## ⬇️ StandardScaler\n",
        "\n",
        "Different features (e.g., `Flow Duration`, `Packet Size`, `Bytes/s`) can have very different ranges. Since logistic regression is sensitive to feature scale, unscaled data can cause numerical instability, overflow errors, slow or failed model convergence.\n",
        "\n",
        "**StandardScaler** standardizes each feature to have: $$\\text{mean} = 0 \\quad \\text{and} \\quad \\text{standard deviation} = 1$$\n",
        "\n",
        "This ensures all features contribute on a comparable scale."
      ]
    },
    {
      "cell_type": "markdown",
      "metadata": {
        "id": "SjepOopWkD4m"
      },
      "source": [
        "## ⬇️ PCA (Principal Component Analysis)\n",
        "\n",
        "Even after scaling, many network features are highly correlated or noisy. **PCA** helps by transforming them into a smaller set of **uncorrelated components** that preserve most of the dataset’s variance.\n",
        "\n",
        "Benefits of PCA:\n",
        "- Reduces multicollinearity  \n",
        "- Removes redundant information  \n",
        "- Stabilizes optimization for Logistic Regression  \n",
        "- Speeds up training and improves generalization"
      ]
    },
    {
      "cell_type": "code",
      "execution_count": 24,
      "metadata": {
        "colab": {
          "base_uri": "https://localhost:8080/"
        },
        "id": "voTfzTbOkziZ",
        "outputId": "86b9941b-26e0-4f7d-c9e7-d7094e4ccd1e"
      },
      "outputs": [
        {
          "output_type": "stream",
          "name": "stdout",
          "text": [
            "Logistic Regression (Scaling + PCA) — Cross-validation\n",
            "Scores: 0.991, 0.988, 0.991, 0.984, 0.992\n",
            "Mean CV: 0.989\n"
          ]
        }
      ],
      "source": [
        "from sklearn.preprocessing import StandardScaler\n",
        "from sklearn.decomposition import PCA\n",
        "from sklearn.pipeline import Pipeline\n",
        "from sklearn.model_selection import StratifiedKFold\n",
        "\n",
        "# Separate features and target\n",
        "X = data.drop('Attack Type', axis=1)\n",
        "y = data['Attack Type']\n",
        "\n",
        "# Split into train and test sets\n",
        "X_train, X_test, y_train, y_test = train_test_split(X, y, test_size=0.2, stratify=y, random_state=42)\n",
        "\n",
        "pipe = Pipeline([\n",
        "    ('scaler', StandardScaler()),\n",
        "    ('pca', PCA(n_components=0.95, svd_solver='full', random_state=0)),\n",
        "    ('lr', LogisticRegression(max_iter=10_000, C=0.1, solver='saga', random_state=0))\n",
        "])\n",
        "\n",
        "# Cross-validation on train set only\n",
        "cv = StratifiedKFold(n_splits=5, shuffle=True, random_state=0)\n",
        "cv_scores = cross_val_score(pipe, X_train, y_train, cv=cv, scoring='accuracy')\n",
        "print(\"Logistic Regression (Scaling + PCA) — Cross-validation\")\n",
        "print(\"Scores:\", \", \".join(f\"{s:.3f}\" for s in cv_scores))\n",
        "print(f\"Mean CV: {cv_scores.mean():.3f}\")"
      ]
    },
    {
      "cell_type": "code",
      "execution_count": 25,
      "metadata": {
        "colab": {
          "base_uri": "https://localhost:8080/"
        },
        "id": "e9oYGM7VpUAj",
        "outputId": "4936af9b-f136-410a-8f67-4ad5ca12cc8e"
      },
      "outputs": [
        {
          "output_type": "stream",
          "name": "stdout",
          "text": [
            "\n",
            "Test Accuracy: 0.989\n",
            "\n",
            "Classification Report:\n",
            "               precision    recall  f1-score   support\n",
            "\n",
            "           0       0.98      1.00      0.99      1494\n",
            "           1       1.00      0.98      0.99      1506\n",
            "\n",
            "    accuracy                           0.99      3000\n",
            "   macro avg       0.99      0.99      0.99      3000\n",
            "weighted avg       0.99      0.99      0.99      3000\n",
            "\n"
          ]
        }
      ],
      "source": [
        "# Fit on train set, evaluate on test set\n",
        "pipe.fit(X_train, y_train)\n",
        "\n",
        "y_pred = pipe.predict(X_test)\n",
        "acc = accuracy_score(y_test, y_pred)\n",
        "print(\"\\nTest Accuracy:\", f\"{acc:.3f}\")\n",
        "print(\"\\nClassification Report:\\n\", classification_report(y_test, y_pred))"
      ]
    },
    {
      "cell_type": "code",
      "execution_count": 26,
      "metadata": {
        "colab": {
          "base_uri": "https://localhost:8080/",
          "height": 407
        },
        "id": "APwQ68jRpd6y",
        "outputId": "8c1c9e2e-6aa2-4ec8-c89a-79a72674ef88"
      },
      "outputs": [
        {
          "output_type": "display_data",
          "data": {
            "text/plain": [
              "<Figure size 500x400 with 2 Axes>"
            ],
            "image/png": "[encoded data removed]"
          },
          "metadata": {}
        }
      ],
      "source": [
        "# Confusion matrix\n",
        "cm = confusion_matrix(y_test, y_pred)\n",
        "plt.figure(figsize=(5, 4))\n",
        "sns.heatmap(cm, annot=True, fmt='d', cmap='Blues')\n",
        "plt.title('Confusion Matrix — Intrusion Detection - Model 2')\n",
        "plt.xlabel('Predicted')\n",
        "plt.ylabel('True')\n",
        "plt.tight_layout()\n",
        "plt.show()"
      ]
    },
    {
      "cell_type": "code",
      "execution_count": 27,
      "metadata": {
        "colab": {
          "base_uri": "https://localhost:8080/",
          "height": 407
        },
        "id": "irL-Z4MLpmyJ",
        "outputId": "bdc01472-4f70-4540-93ac-0d6ba5cc95c6"
      },
      "outputs": [
        {
          "output_type": "display_data",
          "data": {
            "text/plain": [
              "<Figure size 500x400 with 1 Axes>"
            ],
            "image/png": "[encoded data removed]"
          },
          "metadata": {}
        }
      ],
      "source": [
        "# ROC curve\n",
        "y_prob = pipe.predict_proba(X_test)[:, 1]\n",
        "fpr, tpr, _ = roc_curve(y_test, y_prob)\n",
        "roc_auc = auc(fpr, tpr)\n",
        "\n",
        "plt.figure(figsize=(5, 4))\n",
        "plt.plot(fpr, tpr, label=f'ROC AUC = {roc_auc:.3f}')\n",
        "plt.plot([0, 1], [0, 1], linestyle='--')\n",
        "plt.xlim([-0.02, 1.0])\n",
        "plt.ylim([0.0, 1.02])\n",
        "plt.xlabel('False Positive Rate')\n",
        "plt.ylabel('True Positive Rate')\n",
        "plt.title('ROC Curve — Intrusion Detection - Model 2')\n",
        "plt.legend(loc='lower right')\n",
        "plt.tight_layout()\n",
        "plt.show()"
      ]
    },
    {
      "cell_type": "code",
      "execution_count": 28,
      "metadata": {
        "colab": {
          "base_uri": "https://localhost:8080/",
          "height": 407
        },
        "id": "j_wYv4-VqM9S",
        "outputId": "0ce1a49b-2e29-44df-d6b1-7c0cac3b237d"
      },
      "outputs": [
        {
          "output_type": "display_data",
          "data": {
            "text/plain": [
              "<Figure size 800x400 with 2 Axes>"
            ],
            "image/png": "[encoded data removed]"
          },
          "metadata": {}
        }
      ],
      "source": [
        "# Classification report as heatmap\n",
        "report = classification_report(y_test, y_pred, output_dict=True)\n",
        "report_df = pd.DataFrame(report).transpose()\n",
        "report_df = report_df.drop(['accuracy', 'macro avg', 'weighted avg'], errors='ignore')\n",
        "report_df_t = report_df.iloc[:, :3].T\n",
        "\n",
        "plt.figure(figsize=(8, 4))\n",
        "sns.heatmap(report_df_t, annot=True, fmt=\".2f\", cmap=\"Blues\")\n",
        "plt.title(\"Classification Report — Intrusion Detection - Model 2\")\n",
        "plt.xlabel(\"Classes\")\n",
        "plt.ylabel(\"Metrics\")\n",
        "plt.tight_layout()\n",
        "plt.show()"
      ]
    },
    {
      "cell_type": "markdown",
      "metadata": {
        "id": "g3y7YUwbuYvF"
      },
      "source": [
        "## ⬇️ The Importance of Scaling and PCA in Model Performance\n",
        "\n",
        "Our initial model results showed relatively low accuracy and inconsistent predictions.  \n",
        "After applying feature scaling and **Principal Component Analysis (PCA)**, the model’s performance improved significantly.  \n",
        "Here’s why these steps make such a big difference:\n",
        "\n",
        "#### 1. Feature Scaling\n",
        "- Many machine learning algorithms, including **Logistic Regression**, are sensitive to the scale of input features.  \n",
        "- Features with larger numeric ranges can dominate the model’s learning process, causing biased weight estimation.  \n",
        "- By standardizing all features (mean = 0, standard deviation = 1), we ensure that every variable contributes equally to the model.\n",
        "\n",
        "#### 2. Principal Component Analysis (PCA)\n",
        "- Real-world datasets often contain redundant or highly correlated features.  \n",
        "- PCA reduces this redundancy by projecting data into a smaller set of uncorrelated components that capture the majority of the variance.  \n",
        "- This simplifies the learning process, reduces noise, and helps the model find clearer decision boundaries.\n",
        "\n",
        "Together, these preprocessing steps help the model **generalize better**, avoid overfitting, and achieve higher accuracy.\n"
      ]
    }
  ],
  "metadata": {
    "colab": {
      "provenance": [],
      "authorship_tag": "ABX9TyMevxBCKPSqptUm23vX7ASC",
      "include_colab_link": true
    },
    "kernelspec": {
      "display_name": "Python 3",
      "name": "python3"
    },
    "language_info": {
      "name": "python"
    }
  },
  "nbformat": 4,
  "nbformat_minor": 0
}